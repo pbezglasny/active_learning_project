{
 "cells": [
  {
   "cell_type": "code",
   "execution_count": 1,
   "metadata": {
    "tags": []
   },
   "outputs": [],
   "source": [
    "import datasets"
   ]
  },
  {
   "cell_type": "code",
   "execution_count": 2,
   "metadata": {
    "collapsed": false,
    "jupyter": {
     "outputs_hidden": false
    },
    "pycharm": {
     "name": "#%%\n"
    }
   },
   "outputs": [
    {
     "data": {
      "text/plain": "['accuracy',\n 'bertscore',\n 'bleu',\n 'bleurt',\n 'cer',\n 'chrf',\n 'code_eval',\n 'comet',\n 'competition_math',\n 'coval',\n 'cuad',\n 'f1',\n 'gleu',\n 'glue',\n 'google_bleu',\n 'indic_glue',\n 'matthews_correlation',\n 'mauve',\n 'meteor',\n 'pearsonr',\n 'precision',\n 'recall',\n 'rouge',\n 'sacrebleu',\n 'sari',\n 'seqeval',\n 'spearmanr',\n 'squad',\n 'squad_v2',\n 'super_glue',\n 'ter',\n 'wer',\n 'wiki_split',\n 'xnli']"
     },
     "execution_count": 2,
     "metadata": {},
     "output_type": "execute_result"
    }
   ],
   "source": [
    "datasets.list_metrics()"
   ]
  },
  {
   "cell_type": "code",
   "execution_count": null,
   "outputs": [],
   "source": [],
   "metadata": {
    "collapsed": false,
    "pycharm": {
     "name": "#%%\n"
    }
   }
  }
 ],
 "metadata": {
  "kernelspec": {
   "display_name": "Python 3",
   "language": "python",
   "name": "python3"
  },
  "language_info": {
   "codemirror_mode": {
    "name": "ipython",
    "version": 3
   },
   "file_extension": ".py",
   "mimetype": "text/x-python",
   "name": "python",
   "nbconvert_exporter": "python",
   "pygments_lexer": "ipython3",
   "version": "3.8.12"
  }
 },
 "nbformat": 4,
 "nbformat_minor": 4
}