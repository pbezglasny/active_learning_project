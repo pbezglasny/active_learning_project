{
 "cells": [
  {
   "cell_type": "code",
   "execution_count": 1,
   "outputs": [],
   "source": [
    "import numpy as np\n",
    "import torch\n",
    "from datasets import DatasetDict\n",
    "from datasets import load_metric\n",
    "from torch.utils.data import DataLoader\n",
    "from transformers import AutoModelForSequenceClassification\n",
    "from transformers import AutoTokenizer\n"
   ],
   "metadata": {
    "collapsed": false,
    "pycharm": {
     "name": "#%%\n"
    }
   }
  },
  {
   "cell_type": "code",
   "execution_count": 2,
   "outputs": [],
   "source": [
    "dataset = DatasetDict.load_from_disk('/home/pavel/work/active_learning_project/exploded_dataset')"
   ],
   "metadata": {
    "collapsed": false,
    "pycharm": {
     "name": "#%%\n"
    }
   }
  },
  {
   "cell_type": "code",
   "execution_count": 3,
   "outputs": [],
   "source": [
    "f1 = load_metric('f1')\n",
    "\n",
    "\n",
    "def compute_metrics(eval_preds):\n",
    "    metric = load_metric('f1')\n",
    "    logits, labels = eval_preds\n",
    "    predictions = np.argmax(logits, axis=-1)\n",
    "    return metric.compute(predictions=predictions, references=labels, average='weighted')"
   ],
   "metadata": {
    "collapsed": false,
    "pycharm": {
     "name": "#%%\n"
    }
   }
  },
  {
   "cell_type": "code",
   "execution_count": 4,
   "outputs": [],
   "source": [
    "tokenizer = AutoTokenizer.from_pretrained(\"bert-base-uncased\")"
   ],
   "metadata": {
    "collapsed": false,
    "pycharm": {
     "name": "#%%\n"
    }
   }
  },
  {
   "cell_type": "code",
   "execution_count": 5,
   "outputs": [],
   "source": [
    "device = torch.device(\"cuda\") if torch.cuda.is_available() else torch.device(\"cpu\")"
   ],
   "metadata": {
    "collapsed": false,
    "pycharm": {
     "name": "#%%\n"
    }
   }
  },
  {
   "cell_type": "code",
   "execution_count": 6,
   "outputs": [
    {
     "name": "stderr",
     "output_type": "stream",
     "text": [
      "Some weights of the model checkpoint at bert-base-uncased were not used when initializing BertForSequenceClassification: ['cls.seq_relationship.weight', 'cls.predictions.transform.LayerNorm.bias', 'cls.predictions.transform.dense.weight', 'cls.predictions.decoder.weight', 'cls.predictions.bias', 'cls.seq_relationship.bias', 'cls.predictions.transform.dense.bias', 'cls.predictions.transform.LayerNorm.weight']\n",
      "- This IS expected if you are initializing BertForSequenceClassification from the checkpoint of a model trained on another task or with another architecture (e.g. initializing a BertForSequenceClassification model from a BertForPreTraining model).\n",
      "- This IS NOT expected if you are initializing BertForSequenceClassification from the checkpoint of a model that you expect to be exactly identical (initializing a BertForSequenceClassification model from a BertForSequenceClassification model).\n",
      "Some weights of BertForSequenceClassification were not initialized from the model checkpoint at bert-base-uncased and are newly initialized: ['classifier.bias', 'classifier.weight']\n",
      "You should probably TRAIN this model on a down-stream task to be able to use it for predictions and inference.\n"
     ]
    }
   ],
   "source": [
    "model = AutoModelForSequenceClassification.from_pretrained('bert-base-uncased', num_labels=5)\n",
    "model.to(device);"
   ],
   "metadata": {
    "collapsed": false,
    "pycharm": {
     "name": "#%%\n"
    }
   }
  },
  {
   "cell_type": "code",
   "execution_count": 7,
   "outputs": [],
   "source": [
    "import torch\n",
    "from sklearn.metrics import f1_score\n",
    "from transformers import AdamW\n",
    "from transformers import get_scheduler\n",
    "\n",
    "from scripts.utils import DialogPredictionCustomMetric\n",
    "from scripts.data import WorstDialogSamplerWithRemoval\n",
    "\n",
    "\n",
    "def _make_batch_data(batch, tokenizer, device,\n",
    "                     **tokenizer_kwargs):\n",
    "    batch_dict = {k: v for k, v in batch.items()}\n",
    "    data = tokenizer(batch_dict['dialog'], **tokenizer_kwargs)\n",
    "    data['labels'] = batch_dict['act']\n",
    "    return {k: v.to(device) for k, v in data.items()}, batch['dialog_id']\n",
    "\n",
    "\n",
    "class Trainer:\n",
    "\n",
    "    def __init__(self, model,\n",
    "                 first_epoch_dataloader,\n",
    "                 train_dataloader,\n",
    "                 train_sampler: WorstDialogSamplerWithRemoval,\n",
    "                 eval_dataloader,\n",
    "                 tokenizer, device,\n",
    "                 metric,\n",
    "                 metric_kwargs,\n",
    "                 **kwargs):\n",
    "        self.model = model\n",
    "        self.first_epoch_dataloader = first_epoch_dataloader\n",
    "        self.train_dataloader = train_dataloader\n",
    "        self.train_sampler = train_sampler\n",
    "        self.eval_dataloader = eval_dataloader\n",
    "        self.tokenizer = tokenizer\n",
    "        self.device = device\n",
    "        self.metric = metric\n",
    "        self.metric_kwargs = metric_kwargs\n",
    "        self.dp = DialogPredictionCustomMetric(metric,\n",
    "                                               metric_kwargs=metric_kwargs)\n",
    "        self.optimizer = AdamW(model.parameters(), lr=5e-5)\n",
    "        self.init(**kwargs)\n",
    "\n",
    "    def init(self, **kwargs):\n",
    "        self.lr_scheduler = get_scheduler(\n",
    "            \"linear\",\n",
    "            optimizer=self.optimizer,\n",
    "            num_warmup_steps=0,\n",
    "            num_training_steps=kwargs['num_training_steps']\n",
    "        )\n",
    "\n",
    "    def train(self, num_epochs):\n",
    "        train_history = {'loss': [], 'metrics': []}\n",
    "        for epoch in range(num_epochs):\n",
    "            self.at_each_epoch_step(epoch, train_history)\n",
    "            self.after_epoch_end(epoch, train_history)\n",
    "            self.evaluate(epoch, train_history)\n",
    "\n",
    "    def at_each_epoch_step(self, epoch, train_history):\n",
    "        self.model.train()\n",
    "        total_loss = 0\n",
    "        self.train_sampler.eval(False)\n",
    "        dataloader = self.train_dataloader\n",
    "        if epoch == 0:\n",
    "            dataloader = self.first_epoch_dataloader\n",
    "        for batch in dataloader:\n",
    "            data, dialog_ids = _make_batch_data(batch, self.tokenizer, self.device,\n",
    "                                                truncation=True, padding=True,\n",
    "                                                max_length=512,\n",
    "                                                return_tensors='pt')\n",
    "            outputs = self.model(**data)\n",
    "            loss = outputs.loss\n",
    "            total_loss += float(loss)\n",
    "            loss.backward()\n",
    "\n",
    "            self.optimizer.step()\n",
    "            self.lr_scheduler.step()\n",
    "            self.optimizer.zero_grad()\n",
    "        print(total_loss)\n",
    "        train_history['loss'].append(total_loss)\n",
    "\n",
    "    def after_epoch_end(self, epoch_num, train_history):\n",
    "        self.train_sampler.eval(True)\n",
    "        self.model.eval()\n",
    "        for batch in self.train_dataloader:\n",
    "            data, dialog_ids = _make_batch_data(batch, self.tokenizer, self.device,\n",
    "                                                truncation=True, padding=True,\n",
    "                                                max_length=512,\n",
    "                                                return_tensors='pt')\n",
    "            outputs = self.model(**data)\n",
    "            predictions = torch.argmax(outputs.logits, dim=-1)\n",
    "            for i in range(len(data['labels'])):\n",
    "                self.dp.add_answer(int(dialog_ids[i]), int(data['labels'][i]), int(predictions[i]))\n",
    "        self.train_sampler.update_source_after_epoch()\n",
    "\n",
    "    def evaluate(self, epoch, train_history):\n",
    "        self.model.eval()\n",
    "        for batch in self.eval_dataloader:\n",
    "            data, dialog_ids = _make_batch_data(batch, self.tokenizer, self.device,\n",
    "                                                truncation=True, padding=True,\n",
    "                                                max_length=512,\n",
    "                                                return_tensors='pt')\n",
    "            outputs = self.model(**data)\n",
    "            predictions = torch.argmax(outputs.logits, dim=-1)\n",
    "            self.metric.add_batch(predictions=predictions, references=data['labels'])\n",
    "        metric_value = self.metric.compute(**self.metric_kwargs)\n",
    "        print(metric_value)\n",
    "        train_history['metrics'].append(metric_value)"
   ],
   "metadata": {
    "collapsed": false,
    "pycharm": {
     "name": "#%%\n"
    }
   }
  },
  {
   "cell_type": "code",
   "execution_count": 8,
   "outputs": [],
   "source": [
    "bottom_percents = 10\n",
    "batch_size = 32\n",
    "dp = DialogPredictionCustomMetric(f1_score, metric_kwargs={'average': 'weighted'})\n",
    "train_worst_sampler = WorstDialogSamplerWithRemoval(dataset['train'], dp, bottom_percents)\n",
    "train_dataloader = DataLoader(dataset['train'], batch_size=batch_size, sampler=train_worst_sampler)\n",
    "eval_dataloader = DataLoader(dataset['validation'], batch_size=batch_size)\n",
    "first_epoch_dataloader = DataLoader(dataset['test'], batch_size=batch_size)"
   ],
   "metadata": {
    "collapsed": false,
    "pycharm": {
     "name": "#%%\n"
    }
   }
  },
  {
   "cell_type": "code",
   "execution_count": 9,
   "outputs": [],
   "source": [
    "trainer = Trainer(\n",
    "    model,\n",
    "    first_epoch_dataloader,\n",
    "    train_dataloader,\n",
    "    train_worst_sampler,\n",
    "    eval_dataloader,\n",
    "    tokenizer,\n",
    "    device,\n",
    "    f1,\n",
    "    {'average': 'weighted'},\n",
    "    num_training_steps=500\n",
    ")"
   ],
   "metadata": {
    "collapsed": false,
    "pycharm": {
     "name": "#%%\n"
    }
   }
  },
  {
   "cell_type": "code",
   "execution_count": 10,
   "outputs": [
    {
     "name": "stdout",
     "output_type": "stream",
     "text": [
      "149.63257610052824\n",
      "[]\n",
      "{'f1': 0.7210767409604459}\n",
      "0\n",
      "[]\n",
      "{'f1': 0.7210767409604459}\n"
     ]
    }
   ],
   "source": [
    "trainer.train(2)"
   ],
   "metadata": {
    "collapsed": false,
    "pycharm": {
     "name": "#%%\n"
    }
   }
  },
  {
   "cell_type": "code",
   "execution_count": 1,
   "outputs": [
    {
     "ename": "NameError",
     "evalue": "name 'DialogPredictionCustomMetric' is not defined",
     "output_type": "error",
     "traceback": [
      "\u001B[0;31m---------------------------------------------------------------------------\u001B[0m",
      "\u001B[0;31mNameError\u001B[0m                                 Traceback (most recent call last)",
      "\u001B[0;32m<ipython-input-1-af023179901f>\u001B[0m in \u001B[0;36m<module>\u001B[0;34m\u001B[0m\n\u001B[0;32m----> 1\u001B[0;31m \u001B[0mdp\u001B[0m\u001B[0;34m=\u001B[0m\u001B[0mDialogPredictionCustomMetric\u001B[0m\u001B[0;34m(\u001B[0m\u001B[0mf1_score\u001B[0m\u001B[0;34m,\u001B[0m \u001B[0;34m{\u001B[0m\u001B[0;34m'average'\u001B[0m\u001B[0;34m:\u001B[0m \u001B[0;34m'weighted'\u001B[0m\u001B[0;34m}\u001B[0m\u001B[0;34m)\u001B[0m\u001B[0;34m\u001B[0m\u001B[0;34m\u001B[0m\u001B[0m\n\u001B[0m",
      "\u001B[0;31mNameError\u001B[0m: name 'DialogPredictionCustomMetric' is not defined"
     ]
    }
   ],
   "source": [
    "dp=DialogPredictionCustomMetric(f1_score, {'average': 'weighted'})"
   ],
   "metadata": {
    "collapsed": false,
    "pycharm": {
     "name": "#%%\n"
    }
   }
  },
  {
   "cell_type": "code",
   "execution_count": null,
   "outputs": [],
   "source": [],
   "metadata": {
    "collapsed": false,
    "pycharm": {
     "name": "#%%\n"
    }
   }
  }
 ],
 "metadata": {
  "kernelspec": {
   "display_name": "Python 3",
   "language": "python",
   "name": "python3"
  },
  "language_info": {
   "codemirror_mode": {
    "name": "ipython",
    "version": 2
   },
   "file_extension": ".py",
   "mimetype": "text/x-python",
   "name": "python",
   "nbconvert_exporter": "python",
   "pygments_lexer": "ipython2",
   "version": "2.7.6"
  }
 },
 "nbformat": 4,
 "nbformat_minor": 0
}