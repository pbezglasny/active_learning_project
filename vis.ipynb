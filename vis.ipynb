{
 "cells": [
  {
   "cell_type": "code",
   "execution_count": 1,
   "metadata": {
    "collapsed": true
   },
   "outputs": [],
   "source": [
    "import pandas as pd\n",
    "import json\n",
    "import matplotlib.pyplot as plt"
   ]
  },
  {
   "cell_type": "code",
   "execution_count": 2,
   "outputs": [],
   "source": [
    "def read_json_to_df(path):\n",
    "    with open(path, 'rt') as f:\n",
    "        file = json.load(f)\n",
    "    data = []\n",
    "    metric_names = []\n",
    "    is_init_metric_names = False\n",
    "    for num_epochs in file.keys():\n",
    "        for percent in file[num_epochs].keys():\n",
    "            for learner in file[num_epochs][percent]:\n",
    "\n",
    "                # loss = file[num_epochs][percent][learner]['loss']\n",
    "                metrics = file[num_epochs][percent][learner]['test_metrics']\n",
    "                metric_list = []\n",
    "                for  metric in metrics:\n",
    "                    # print(metric)\n",
    "                    if not is_init_metric_names:\n",
    "                        metric_names.append(metric['metric_alias'])\n",
    "                    metric_list.append(metric['value'])\n",
    "                row = [learner, num_epochs, percent] + metric_list\n",
    "                data.append(row)\n",
    "                is_init_metric_names = True\n",
    "    return pd.DataFrame(data, columns=['learner', 'num_epochs', 'percent'] + metric_names)"
   ],
   "metadata": {
    "collapsed": false,
    "pycharm": {
     "name": "#%%\n"
    }
   }
  },
  {
   "cell_type": "code",
   "execution_count": 3,
   "outputs": [],
   "source": [
    "df = read_json_to_df('output/bert-base-uncased.json')"
   ],
   "metadata": {
    "collapsed": false,
    "pycharm": {
     "name": "#%%\n"
    }
   }
  },
  {
   "cell_type": "code",
   "execution_count": 4,
   "outputs": [
    {
     "data": {
      "text/plain": "   learner num_epochs percent  f1 weighted  f1 macro  f1 micro  accuracy\n0   active          5       5     0.680099  0.552288  0.685917  0.685917\n1   random          5       5     0.808312  0.717198  0.821447  0.821447\n2   active          5      10     0.769555  0.643776  0.794315  0.794315\n3   random          5      10     0.813752  0.732062  0.822610  0.822610\n4   active          5      15     0.699173  0.653334  0.685271  0.685271\n5   random          5      15     0.812425  0.738484  0.814212  0.814212\n6   active          5      20     0.773005  0.708768  0.761499  0.761499\n7   random          5      20     0.808109  0.722825  0.820284  0.820284\n8   active          7       5     0.675121  0.617826  0.648837  0.648837\n9   random          7       5     0.813899  0.731919  0.823127  0.823127\n10  active          7      10     0.796707  0.710707  0.801809  0.801809\n11  random          7      10     0.813816  0.734669  0.819380  0.819380\n12  active         10       5     0.747408  0.627529  0.759948  0.759948\n13  random         10       5     0.812433  0.730483  0.822093  0.822093\n14  active         10      10     0.767749  0.644341  0.794057  0.794057\n15  random         10      10     0.814687  0.733468  0.821059  0.821059",
      "text/html": "<div>\n<style scoped>\n    .dataframe tbody tr th:only-of-type {\n        vertical-align: middle;\n    }\n\n    .dataframe tbody tr th {\n        vertical-align: top;\n    }\n\n    .dataframe thead th {\n        text-align: right;\n    }\n</style>\n<table border=\"1\" class=\"dataframe\">\n  <thead>\n    <tr style=\"text-align: right;\">\n      <th></th>\n      <th>learner</th>\n      <th>num_epochs</th>\n      <th>percent</th>\n      <th>f1 weighted</th>\n      <th>f1 macro</th>\n      <th>f1 micro</th>\n      <th>accuracy</th>\n    </tr>\n  </thead>\n  <tbody>\n    <tr>\n      <th>0</th>\n      <td>active</td>\n      <td>5</td>\n      <td>5</td>\n      <td>0.680099</td>\n      <td>0.552288</td>\n      <td>0.685917</td>\n      <td>0.685917</td>\n    </tr>\n    <tr>\n      <th>1</th>\n      <td>random</td>\n      <td>5</td>\n      <td>5</td>\n      <td>0.808312</td>\n      <td>0.717198</td>\n      <td>0.821447</td>\n      <td>0.821447</td>\n    </tr>\n    <tr>\n      <th>2</th>\n      <td>active</td>\n      <td>5</td>\n      <td>10</td>\n      <td>0.769555</td>\n      <td>0.643776</td>\n      <td>0.794315</td>\n      <td>0.794315</td>\n    </tr>\n    <tr>\n      <th>3</th>\n      <td>random</td>\n      <td>5</td>\n      <td>10</td>\n      <td>0.813752</td>\n      <td>0.732062</td>\n      <td>0.822610</td>\n      <td>0.822610</td>\n    </tr>\n    <tr>\n      <th>4</th>\n      <td>active</td>\n      <td>5</td>\n      <td>15</td>\n      <td>0.699173</td>\n      <td>0.653334</td>\n      <td>0.685271</td>\n      <td>0.685271</td>\n    </tr>\n    <tr>\n      <th>5</th>\n      <td>random</td>\n      <td>5</td>\n      <td>15</td>\n      <td>0.812425</td>\n      <td>0.738484</td>\n      <td>0.814212</td>\n      <td>0.814212</td>\n    </tr>\n    <tr>\n      <th>6</th>\n      <td>active</td>\n      <td>5</td>\n      <td>20</td>\n      <td>0.773005</td>\n      <td>0.708768</td>\n      <td>0.761499</td>\n      <td>0.761499</td>\n    </tr>\n    <tr>\n      <th>7</th>\n      <td>random</td>\n      <td>5</td>\n      <td>20</td>\n      <td>0.808109</td>\n      <td>0.722825</td>\n      <td>0.820284</td>\n      <td>0.820284</td>\n    </tr>\n    <tr>\n      <th>8</th>\n      <td>active</td>\n      <td>7</td>\n      <td>5</td>\n      <td>0.675121</td>\n      <td>0.617826</td>\n      <td>0.648837</td>\n      <td>0.648837</td>\n    </tr>\n    <tr>\n      <th>9</th>\n      <td>random</td>\n      <td>7</td>\n      <td>5</td>\n      <td>0.813899</td>\n      <td>0.731919</td>\n      <td>0.823127</td>\n      <td>0.823127</td>\n    </tr>\n    <tr>\n      <th>10</th>\n      <td>active</td>\n      <td>7</td>\n      <td>10</td>\n      <td>0.796707</td>\n      <td>0.710707</td>\n      <td>0.801809</td>\n      <td>0.801809</td>\n    </tr>\n    <tr>\n      <th>11</th>\n      <td>random</td>\n      <td>7</td>\n      <td>10</td>\n      <td>0.813816</td>\n      <td>0.734669</td>\n      <td>0.819380</td>\n      <td>0.819380</td>\n    </tr>\n    <tr>\n      <th>12</th>\n      <td>active</td>\n      <td>10</td>\n      <td>5</td>\n      <td>0.747408</td>\n      <td>0.627529</td>\n      <td>0.759948</td>\n      <td>0.759948</td>\n    </tr>\n    <tr>\n      <th>13</th>\n      <td>random</td>\n      <td>10</td>\n      <td>5</td>\n      <td>0.812433</td>\n      <td>0.730483</td>\n      <td>0.822093</td>\n      <td>0.822093</td>\n    </tr>\n    <tr>\n      <th>14</th>\n      <td>active</td>\n      <td>10</td>\n      <td>10</td>\n      <td>0.767749</td>\n      <td>0.644341</td>\n      <td>0.794057</td>\n      <td>0.794057</td>\n    </tr>\n    <tr>\n      <th>15</th>\n      <td>random</td>\n      <td>10</td>\n      <td>10</td>\n      <td>0.814687</td>\n      <td>0.733468</td>\n      <td>0.821059</td>\n      <td>0.821059</td>\n    </tr>\n  </tbody>\n</table>\n</div>"
     },
     "execution_count": 4,
     "metadata": {},
     "output_type": "execute_result"
    }
   ],
   "source": [
    "df"
   ],
   "metadata": {
    "collapsed": false,
    "pycharm": {
     "name": "#%%\n"
    }
   }
  },
  {
   "cell_type": "code",
   "execution_count": 5,
   "outputs": [],
   "source": [
    "active = df[df['learner'] == 'active']"
   ],
   "metadata": {
    "collapsed": false,
    "pycharm": {
     "name": "#%%\n"
    }
   }
  },
  {
   "cell_type": "code",
   "execution_count": 6,
   "outputs": [],
   "source": [
    "random = df[df['learner'] == 'random']"
   ],
   "metadata": {
    "collapsed": false,
    "pycharm": {
     "name": "#%%\n"
    }
   }
  },
  {
   "cell_type": "code",
   "execution_count": 7,
   "outputs": [
    {
     "data": {
      "text/plain": "<matplotlib.legend.Legend at 0x7f6acc183ac0>"
     },
     "execution_count": 7,
     "metadata": {},
     "output_type": "execute_result"
    },
    {
     "data": {
      "text/plain": "<Figure size 576x576 with 1 Axes>",
      "image/png": "[encoded data removed]"
     },
     "metadata": {
      "needs_background": "light"
     },
     "output_type": "display_data"
    }
   ],
   "source": [
    "plt.figure(figsize=(8, 8))\n",
    "plt.grid()\n",
    "plt.plot(active['num_epochs'], active['f1 weighted'], label='active', color='b')\n",
    "plt.plot(random['num_epochs'], random['f1 weighted'], label='random', color='r')\n",
    "plt.legend()"
   ],
   "metadata": {
    "collapsed": false,
    "pycharm": {
     "name": "#%%\n"
    }
   }
  },
  {
   "cell_type": "code",
   "execution_count": null,
   "outputs": [],
   "source": [],
   "metadata": {
    "collapsed": false,
    "pycharm": {
     "name": "#%%\n"
    }
   }
  }
 ],
 "metadata": {
  "kernelspec": {
   "display_name": "Python 3",
   "language": "python",
   "name": "python3"
  },
  "language_info": {
   "codemirror_mode": {
    "name": "ipython",
    "version": 2
   },
   "file_extension": ".py",
   "mimetype": "text/x-python",
   "name": "python",
   "nbconvert_exporter": "python",
   "pygments_lexer": "ipython2",
   "version": "2.7.6"
  }
 },
 "nbformat": 4,
 "nbformat_minor": 0
}