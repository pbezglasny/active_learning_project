{
 "cells": [
  {
   "cell_type": "code",
   "execution_count": 16,
   "metadata": {
    "collapsed": true
   },
   "outputs": [],
   "source": [
    "import pandas as pd\n",
    "import json\n",
    "import matplotlib.pyplot as plt"
   ]
  },
  {
   "cell_type": "code",
   "execution_count": 19,
   "outputs": [],
   "source": [
    "def read_json_to_df(path):\n",
    "    with open(path, 'rt') as f:\n",
    "        file = json.load(f)\n",
    "    data = []\n",
    "    metric_names = []\n",
    "    is_init_metric_names = False\n",
    "    for num_epochs in file.keys():\n",
    "        for percent in file[num_epochs].keys():\n",
    "            for learner in file[num_epochs][percent]:\n",
    "\n",
    "                loss = file[num_epochs][percent][learner]['loss']\n",
    "                metrics = file[num_epochs][percent][learner]['metrics']\n",
    "                for i, (l, metric) in enumerate(zip(loss, metrics)):\n",
    "                    metric_list = []\n",
    "                    for m in metric:\n",
    "                        if not is_init_metric_names:\n",
    "                            metric_names.append(m['metric_alias'])\n",
    "                        metric_list.append(m['value'])\n",
    "                    row = [learner, num_epochs, percent, i, l] + metric_list\n",
    "                    data.append(row)\n",
    "                    is_init_metric_names = True\n",
    "    return pd.DataFrame(data, columns=['learner', 'num_epochs', 'percent', 'epoch', 'loss'] + metric_names)"
   ],
   "metadata": {
    "collapsed": false,
    "pycharm": {
     "name": "#%%\n"
    }
   }
  },
  {
   "cell_type": "code",
   "execution_count": 20,
   "outputs": [],
   "source": [
    "df = read_json_to_df('output/bert-base-uncased.json')"
   ],
   "metadata": {
    "collapsed": false,
    "pycharm": {
     "name": "#%%\n"
    }
   }
  },
  {
   "cell_type": "code",
   "execution_count": 21,
   "outputs": [
    {
     "data": {
      "text/plain": "  learner num_epochs percent  epoch        loss  f1 weighted  f1 macro  \\\n0  active          2       5      0  150.310054     0.723385  0.655686   \n1  active          2       5      1   51.033766     0.713126  0.638725   \n2  random          2       5      0  150.316525     0.719814  0.649817   \n3  random          2       5      1   70.592120     0.759103  0.699302   \n\n   f1 micro  accuracy  \n0  0.743587  0.743587  \n1  0.747304  0.747304  \n2  0.740860  0.740860  \n3  0.773206  0.773206  ",
      "text/html": "<div>\n<style scoped>\n    .dataframe tbody tr th:only-of-type {\n        vertical-align: middle;\n    }\n\n    .dataframe tbody tr th {\n        vertical-align: top;\n    }\n\n    .dataframe thead th {\n        text-align: right;\n    }\n</style>\n<table border=\"1\" class=\"dataframe\">\n  <thead>\n    <tr style=\"text-align: right;\">\n      <th></th>\n      <th>learner</th>\n      <th>num_epochs</th>\n      <th>percent</th>\n      <th>epoch</th>\n      <th>loss</th>\n      <th>f1 weighted</th>\n      <th>f1 macro</th>\n      <th>f1 micro</th>\n      <th>accuracy</th>\n    </tr>\n  </thead>\n  <tbody>\n    <tr>\n      <th>0</th>\n      <td>active</td>\n      <td>2</td>\n      <td>5</td>\n      <td>0</td>\n      <td>150.310054</td>\n      <td>0.723385</td>\n      <td>0.655686</td>\n      <td>0.743587</td>\n      <td>0.743587</td>\n    </tr>\n    <tr>\n      <th>1</th>\n      <td>active</td>\n      <td>2</td>\n      <td>5</td>\n      <td>1</td>\n      <td>51.033766</td>\n      <td>0.713126</td>\n      <td>0.638725</td>\n      <td>0.747304</td>\n      <td>0.747304</td>\n    </tr>\n    <tr>\n      <th>2</th>\n      <td>random</td>\n      <td>2</td>\n      <td>5</td>\n      <td>0</td>\n      <td>150.316525</td>\n      <td>0.719814</td>\n      <td>0.649817</td>\n      <td>0.740860</td>\n      <td>0.740860</td>\n    </tr>\n    <tr>\n      <th>3</th>\n      <td>random</td>\n      <td>2</td>\n      <td>5</td>\n      <td>1</td>\n      <td>70.592120</td>\n      <td>0.759103</td>\n      <td>0.699302</td>\n      <td>0.773206</td>\n      <td>0.773206</td>\n    </tr>\n  </tbody>\n</table>\n</div>"
     },
     "execution_count": 21,
     "metadata": {},
     "output_type": "execute_result"
    }
   ],
   "source": [
    "df"
   ],
   "metadata": {
    "collapsed": false,
    "pycharm": {
     "name": "#%%\n"
    }
   }
  },
  {
   "cell_type": "code",
   "execution_count": 22,
   "outputs": [],
   "source": [
    "active = df[df['learner'] == 'active']"
   ],
   "metadata": {
    "collapsed": false,
    "pycharm": {
     "name": "#%%\n"
    }
   }
  },
  {
   "cell_type": "code",
   "execution_count": 26,
   "outputs": [],
   "source": [
    "random = df[df['learner'] == 'random']"
   ],
   "metadata": {
    "collapsed": false,
    "pycharm": {
     "name": "#%%\n"
    }
   }
  },
  {
   "cell_type": "code",
   "execution_count": 29,
   "outputs": [
    {
     "data": {
      "text/plain": "<matplotlib.legend.Legend at 0x7fa7a80fe130>"
     },
     "execution_count": 29,
     "metadata": {},
     "output_type": "execute_result"
    },
    {
     "data": {
      "text/plain": "<Figure size 576x576 with 1 Axes>",
      "image/png": "[encoded data removed]"
     },
     "metadata": {
      "needs_background": "light"
     },
     "output_type": "display_data"
    }
   ],
   "source": [
    "plt.figure(figsize=(8, 8))\n",
    "plt.grid()\n",
    "plt.plot(active['epoch'], active['f1 weighted'], label='active', color='b')\n",
    "plt.plot(random['epoch'], random['f1 weighted'], label='random', color='r')\n",
    "plt.legend()"
   ],
   "metadata": {
    "collapsed": false,
    "pycharm": {
     "name": "#%%\n"
    }
   }
  },
  {
   "cell_type": "code",
   "execution_count": null,
   "outputs": [],
   "source": [],
   "metadata": {
    "collapsed": false,
    "pycharm": {
     "name": "#%%\n"
    }
   }
  }
 ],
 "metadata": {
  "kernelspec": {
   "display_name": "Python 3",
   "language": "python",
   "name": "python3"
  },
  "language_info": {
   "codemirror_mode": {
    "name": "ipython",
    "version": 2
   },
   "file_extension": ".py",
   "mimetype": "text/x-python",
   "name": "python",
   "nbconvert_exporter": "python",
   "pygments_lexer": "ipython2",
   "version": "2.7.6"
  }
 },
 "nbformat": 4,
 "nbformat_minor": 0
}