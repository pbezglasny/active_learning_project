{
 "cells": [
  {
   "cell_type": "code",
   "execution_count": 2,
   "metadata": {
    "collapsed": true
   },
   "outputs": [],
   "source": [
    "import pandas as pd\n",
    "import json\n",
    "import matplotlib.pyplot as plt"
   ]
  },
  {
   "cell_type": "code",
   "execution_count": 26,
   "outputs": [],
   "source": [
    "def read_json_to_df(path):\n",
    "    with open(path, 'rt') as f:\n",
    "        file = json.load(f)\n",
    "    data = []\n",
    "    metric_names = []\n",
    "    is_init_metric_names = False\n",
    "    for num_epochs in file.keys():\n",
    "        for percent in file[num_epochs].keys():\n",
    "            for learner in file[num_epochs][percent]:\n",
    "\n",
    "                # loss = file[num_epochs][percent][learner]['loss']\n",
    "                metrics = file[num_epochs][percent][learner]['test_metrics']\n",
    "                metric_list = []\n",
    "                for  metric in metrics:\n",
    "                    # print(metric)\n",
    "                    if not is_init_metric_names:\n",
    "                        metric_names.append(metric['metric_alias'])\n",
    "                    metric_list.append(metric['value'])\n",
    "                row = [learner, num_epochs, percent] + metric_list\n",
    "                data.append(row)\n",
    "                is_init_metric_names = True\n",
    "    return pd.DataFrame(data, columns=['learner', 'num_epochs', 'percent'] + metric_names)"
   ],
   "metadata": {
    "collapsed": false,
    "pycharm": {
     "name": "#%%\n"
    }
   }
  },
  {
   "cell_type": "code",
   "execution_count": 27,
   "outputs": [],
   "source": [
    "df = read_json_to_df('output/bert-base-uncased.json')"
   ],
   "metadata": {
    "collapsed": false,
    "pycharm": {
     "name": "#%%\n"
    }
   }
  },
  {
   "cell_type": "code",
   "execution_count": 28,
   "outputs": [
    {
     "data": {
      "text/plain": "   learner num_epochs percent  f1 weighted  f1 macro  f1 micro  accuracy\n0   active          5       5     0.799354  0.708927  0.811370  0.811370\n1   random          5       5     0.817124  0.741844  0.821189  0.821189\n2   active          5      10     0.789963  0.701858  0.804910  0.804910\n3   random          5      10     0.814857  0.731978  0.822997  0.822997\n4   active          5      15     0.786588  0.693653  0.804005  0.804005\n5   random          5      15     0.809349  0.719840  0.822610  0.822610\n6   active          5      20     0.786327  0.688910  0.806202  0.806202\n7   random          5      20     0.813621  0.732399  0.821059  0.821059\n8   active          7       5     0.798881  0.707425  0.812403  0.812403\n9   random          7       5     0.810798  0.728447  0.819380  0.819380\n10  active          7      10     0.789132  0.702716  0.802455  0.802455\n11  random          7      10     0.811886  0.736427  0.815762  0.815762\n12  active         10       5     0.796724  0.706068  0.810982  0.810982\n13  random         10       5     0.810121  0.727963  0.816925  0.816925\n14  active         10      10     0.791780  0.704566  0.804522  0.804522\n15  random         10      10     0.813792  0.734482  0.820155  0.820155",
      "text/html": "<div>\n<style scoped>\n    .dataframe tbody tr th:only-of-type {\n        vertical-align: middle;\n    }\n\n    .dataframe tbody tr th {\n        vertical-align: top;\n    }\n\n    .dataframe thead th {\n        text-align: right;\n    }\n</style>\n<table border=\"1\" class=\"dataframe\">\n  <thead>\n    <tr style=\"text-align: right;\">\n      <th></th>\n      <th>learner</th>\n      <th>num_epochs</th>\n      <th>percent</th>\n      <th>f1 weighted</th>\n      <th>f1 macro</th>\n      <th>f1 micro</th>\n      <th>accuracy</th>\n    </tr>\n  </thead>\n  <tbody>\n    <tr>\n      <th>0</th>\n      <td>active</td>\n      <td>5</td>\n      <td>5</td>\n      <td>0.799354</td>\n      <td>0.708927</td>\n      <td>0.811370</td>\n      <td>0.811370</td>\n    </tr>\n    <tr>\n      <th>1</th>\n      <td>random</td>\n      <td>5</td>\n      <td>5</td>\n      <td>0.817124</td>\n      <td>0.741844</td>\n      <td>0.821189</td>\n      <td>0.821189</td>\n    </tr>\n    <tr>\n      <th>2</th>\n      <td>active</td>\n      <td>5</td>\n      <td>10</td>\n      <td>0.789963</td>\n      <td>0.701858</td>\n      <td>0.804910</td>\n      <td>0.804910</td>\n    </tr>\n    <tr>\n      <th>3</th>\n      <td>random</td>\n      <td>5</td>\n      <td>10</td>\n      <td>0.814857</td>\n      <td>0.731978</td>\n      <td>0.822997</td>\n      <td>0.822997</td>\n    </tr>\n    <tr>\n      <th>4</th>\n      <td>active</td>\n      <td>5</td>\n      <td>15</td>\n      <td>0.786588</td>\n      <td>0.693653</td>\n      <td>0.804005</td>\n      <td>0.804005</td>\n    </tr>\n    <tr>\n      <th>5</th>\n      <td>random</td>\n      <td>5</td>\n      <td>15</td>\n      <td>0.809349</td>\n      <td>0.719840</td>\n      <td>0.822610</td>\n      <td>0.822610</td>\n    </tr>\n    <tr>\n      <th>6</th>\n      <td>active</td>\n      <td>5</td>\n      <td>20</td>\n      <td>0.786327</td>\n      <td>0.688910</td>\n      <td>0.806202</td>\n      <td>0.806202</td>\n    </tr>\n    <tr>\n      <th>7</th>\n      <td>random</td>\n      <td>5</td>\n      <td>20</td>\n      <td>0.813621</td>\n      <td>0.732399</td>\n      <td>0.821059</td>\n      <td>0.821059</td>\n    </tr>\n    <tr>\n      <th>8</th>\n      <td>active</td>\n      <td>7</td>\n      <td>5</td>\n      <td>0.798881</td>\n      <td>0.707425</td>\n      <td>0.812403</td>\n      <td>0.812403</td>\n    </tr>\n    <tr>\n      <th>9</th>\n      <td>random</td>\n      <td>7</td>\n      <td>5</td>\n      <td>0.810798</td>\n      <td>0.728447</td>\n      <td>0.819380</td>\n      <td>0.819380</td>\n    </tr>\n    <tr>\n      <th>10</th>\n      <td>active</td>\n      <td>7</td>\n      <td>10</td>\n      <td>0.789132</td>\n      <td>0.702716</td>\n      <td>0.802455</td>\n      <td>0.802455</td>\n    </tr>\n    <tr>\n      <th>11</th>\n      <td>random</td>\n      <td>7</td>\n      <td>10</td>\n      <td>0.811886</td>\n      <td>0.736427</td>\n      <td>0.815762</td>\n      <td>0.815762</td>\n    </tr>\n    <tr>\n      <th>12</th>\n      <td>active</td>\n      <td>10</td>\n      <td>5</td>\n      <td>0.796724</td>\n      <td>0.706068</td>\n      <td>0.810982</td>\n      <td>0.810982</td>\n    </tr>\n    <tr>\n      <th>13</th>\n      <td>random</td>\n      <td>10</td>\n      <td>5</td>\n      <td>0.810121</td>\n      <td>0.727963</td>\n      <td>0.816925</td>\n      <td>0.816925</td>\n    </tr>\n    <tr>\n      <th>14</th>\n      <td>active</td>\n      <td>10</td>\n      <td>10</td>\n      <td>0.791780</td>\n      <td>0.704566</td>\n      <td>0.804522</td>\n      <td>0.804522</td>\n    </tr>\n    <tr>\n      <th>15</th>\n      <td>random</td>\n      <td>10</td>\n      <td>10</td>\n      <td>0.813792</td>\n      <td>0.734482</td>\n      <td>0.820155</td>\n      <td>0.820155</td>\n    </tr>\n  </tbody>\n</table>\n</div>"
     },
     "execution_count": 28,
     "metadata": {},
     "output_type": "execute_result"
    }
   ],
   "source": [
    "df"
   ],
   "metadata": {
    "collapsed": false,
    "pycharm": {
     "name": "#%%\n"
    }
   }
  },
  {
   "cell_type": "code",
   "execution_count": 29,
   "outputs": [],
   "source": [
    "active = df[df['learner'] == 'active']"
   ],
   "metadata": {
    "collapsed": false,
    "pycharm": {
     "name": "#%%\n"
    }
   }
  },
  {
   "cell_type": "code",
   "execution_count": 30,
   "outputs": [],
   "source": [
    "random = df[df['learner'] == 'random']"
   ],
   "metadata": {
    "collapsed": false,
    "pycharm": {
     "name": "#%%\n"
    }
   }
  },
  {
   "cell_type": "code",
   "execution_count": 32,
   "outputs": [
    {
     "data": {
      "text/plain": "<matplotlib.legend.Legend at 0x7f86df529d90>"
     },
     "execution_count": 32,
     "metadata": {},
     "output_type": "execute_result"
    },
    {
     "data": {
      "text/plain": "<Figure size 576x576 with 1 Axes>",
      "image/png": "[encoded data removed]"
     },
     "metadata": {
      "needs_background": "light"
     },
     "output_type": "display_data"
    }
   ],
   "source": [
    "plt.figure(figsize=(8, 8))\n",
    "plt.grid()\n",
    "plt.plot(active['num_epochs'], active['f1 weighted'], label='active', color='b')\n",
    "plt.plot(random['num_epochs'], random['f1 weighted'], label='random', color='r')\n",
    "plt.legend()"
   ],
   "metadata": {
    "collapsed": false,
    "pycharm": {
     "name": "#%%\n"
    }
   }
  },
  {
   "cell_type": "code",
   "execution_count": null,
   "outputs": [],
   "source": [],
   "metadata": {
    "collapsed": false,
    "pycharm": {
     "name": "#%%\n"
    }
   }
  }
 ],
 "metadata": {
  "kernelspec": {
   "display_name": "Python 3",
   "language": "python",
   "name": "python3"
  },
  "language_info": {
   "codemirror_mode": {
    "name": "ipython",
    "version": 2
   },
   "file_extension": ".py",
   "mimetype": "text/x-python",
   "name": "python",
   "nbconvert_exporter": "python",
   "pygments_lexer": "ipython2",
   "version": "2.7.6"
  }
 },
 "nbformat": 4,
 "nbformat_minor": 0
}